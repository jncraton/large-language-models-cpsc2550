{
 "cells": [
  {
   "cell_type": "code",
   "execution_count": null,
   "id": "c582e837-5007-4adb-af6f-751ec5256a46",
   "metadata": {},
   "outputs": [],
   "source": [
    "from transformers import pipeline\n",
    "\n",
    "translate_fr_en = pipeline(\"text2text-generation\", \n",
    "                           \"Helsinki-NLP/opus-mt-fr-en\")"
   ]
  },
  {
   "cell_type": "code",
   "execution_count": null,
   "id": "063fe5a2-5058-4c16-ba0f-433da352e086",
   "metadata": {},
   "outputs": [],
   "source": [
    "translate_fr_en(\"Je suis étudiant\")"
   ]
  },
  {
   "cell_type": "code",
   "execution_count": null,
   "id": "e251d79b-0a1a-4b11-a0a5-7e0d21ec966a",
   "metadata": {},
   "outputs": [],
   "source": [
    "translate_en_es = pipeline(\"text2text-generation\", \n",
    "                           \"Helsinki-NLP/opus-mt-en-es\")"
   ]
  },
  {
   "cell_type": "code",
   "execution_count": null,
   "id": "2389dc6e-9865-4dd3-a16b-54b8c88282c6",
   "metadata": {},
   "outputs": [],
   "source": [
    "translate_en_es(\"The cat is hungry.\")"
   ]
  },
  {
   "cell_type": "code",
   "execution_count": null,
   "id": "74131727-ed4c-4cc8-a7a6-7a65b6b9987a",
   "metadata": {},
   "outputs": [],
   "source": [
    "translate_en_es(\"The blue car is faster than the red car.\")"
   ]
  }
 ],
 "metadata": {
  "kernelspec": {
   "display_name": "Python 3 (ipykernel)",
   "language": "python",
   "name": "python3"
  },
  "language_info": {
   "codemirror_mode": {
    "name": "ipython",
    "version": 3
   },
   "file_extension": ".py",
   "mimetype": "text/x-python",
   "name": "python",
   "nbconvert_exporter": "python",
   "pygments_lexer": "ipython3",
   "version": "3.9.2"
  }
 },
 "nbformat": 4,
 "nbformat_minor": 5
}
