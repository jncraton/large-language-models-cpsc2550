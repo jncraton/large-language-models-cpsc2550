{
 "cells": [
  {
   "cell_type": "code",
   "execution_count": null,
   "id": "58526eb2-57b8-4466-bf71-cf666cd93b28",
   "metadata": {},
   "outputs": [],
   "source": [
    "import requests\n",
    "host = \"http://10.73.56.27\"\n",
    "\n",
    "def generate(prompt, max_tokens=512, show_output=True):\n",
    "    response = requests.get(f\"{host}/api\", stream=True, params={\n",
    "        \"max_tokens\": max_tokens,\n",
    "        \"model\": \"openchat-3.5-0106\",\n",
    "        \"input\": f\"GPT4 Correct User: {prompt}\"\n",
    "                 \"<|end_of_turn|>GPT4 Correct Assistant: \"\n",
    "    })\n",
    "\n",
    "    content = ''\n",
    "\n",
    "    for char in response.iter_content(decode_unicode=True):\n",
    "        content += char\n",
    "        if show_output:\n",
    "            print(char, end=\"\")\n",
    "\n",
    "    return content.decode()\n",
    "\n",
    "response = generate(\"Create an HTML page with a big red button.\")"
   ]
  },
  {
   "cell_type": "code",
   "execution_count": null,
   "id": "0d3f5db4-1277-475b-8495-711d021fc371",
   "metadata": {},
   "outputs": [],
   "source": [
    "generate(\"Write a 5 sentence story about a dolphin.\")"
   ]
  },
  {
   "cell_type": "code",
   "execution_count": null,
   "id": "3e08c215-2157-4f6a-8777-a7a83c514662",
   "metadata": {},
   "outputs": [],
   "source": [
    "generate(\"Say hi!\")"
   ]
  }
 ],
 "metadata": {
  "kernelspec": {
   "display_name": "Python 3 (ipykernel)",
   "language": "python",
   "name": "python3"
  },
  "language_info": {
   "codemirror_mode": {
    "name": "ipython",
    "version": 3
   },
   "file_extension": ".py",
   "mimetype": "text/x-python",
   "name": "python",
   "nbconvert_exporter": "python",
   "pygments_lexer": "ipython3",
   "version": "3.9.2"
  }
 },
 "nbformat": 4,
 "nbformat_minor": 5
}
