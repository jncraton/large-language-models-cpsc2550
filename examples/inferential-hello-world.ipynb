{
 "cells": [
  {
   "cell_type": "code",
   "execution_count": null,
   "id": "58526eb2-57b8-4466-bf71-cf666cd93b28",
   "metadata": {},
   "outputs": [],
   "source": [
    "import requests\n",
    "host = \"http://10.73.56.27\"\n",
    "\n",
    "def generate(prompt, max_tokens=512, show_output=True):\n",
    "    response = requests.get(f\"{host}/api\", stream=True, params={\n",
    "        \"max_tokens\": max_tokens,\n",
    "        \"model\": \"openchat-3.5-0106\",\n",
    "        \"input\": f\"GPT4 Correct User: {prompt}\"\n",
    "                 \"<|end_of_turn|>GPT4 Correct Assistant: \"\n",
    "    })\n",
    "\n",
    "    response.encoding=\"utf8\"\n",
    "\n",
    "    content = ''\n",
    "\n",
    "    for text in response.iter_content(decode_unicode=True):\n",
    "        content += text\n",
    "        if show_output:\n",
    "            print(text, end=\"\")\n",
    "\n",
    "    return content\n",
    "\n",
    "res = generate(\"Say hi!\")"
   ]
  },
  {
   "cell_type": "code",
   "execution_count": null,
   "id": "0d3f5db4-1277-475b-8495-711d021fc371",
   "metadata": {},
   "outputs": [],
   "source": [
    "res = generate(\"Tell me your name.\")"
   ]
  },
  {
   "cell_type": "code",
   "execution_count": null,
   "id": "38e04982-c435-44e1-8af9-59e1d68029e5",
   "metadata": {},
   "outputs": [],
   "source": [
    "res = generate(\"Create an HTML page with a big red button.\")"
   ]
  },
  {
   "cell_type": "code",
   "execution_count": null,
   "id": "dcd3ed39-9b9c-432c-a305-227e15d6d839",
   "metadata": {},
   "outputs": [],
   "source": [
    "code = generate(\"Create a Python program that counts to 10.\"\n",
    "                \"Include only the Python code only with no \"\n",
    "                \"natural language description, no code block, \"\n",
    "                \"and no line numbers.\")"
   ]
  },
  {
   "cell_type": "code",
   "execution_count": null,
   "id": "9cdbeb9f-af2c-4d3f-995a-b0b5d349d591",
   "metadata": {},
   "outputs": [],
   "source": [
    "exec(code)"
   ]
  }
 ],
 "metadata": {
  "kernelspec": {
   "display_name": "Python 3 (ipykernel)",
   "language": "python",
   "name": "python3"
  },
  "language_info": {
   "codemirror_mode": {
    "name": "ipython",
    "version": 3
   },
   "file_extension": ".py",
   "mimetype": "text/x-python",
   "name": "python",
   "nbconvert_exporter": "python",
   "pygments_lexer": "ipython3",
   "version": "3.9.2"
  }
 },
 "nbformat": 4,
 "nbformat_minor": 5
}
