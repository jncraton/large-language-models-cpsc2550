{
 "cells": [
  {
   "cell_type": "code",
   "execution_count": null,
   "id": "criminal-facing",
   "metadata": {},
   "outputs": [],
   "source": [
    "from gensim.models import Word2Vec\n",
    "import gensim.downloader\n",
    "\n",
    "# Model list: https://github.com/RaRe-Technologies/gensim-data\n",
    "vectors = gensim.downloader.load('glove-wiki-gigaword-50')"
   ]
  },
  {
   "cell_type": "code",
   "execution_count": null,
   "id": "metric-cleanup",
   "metadata": {},
   "outputs": [],
   "source": [
    "vectors['jesus']"
   ]
  },
  {
   "cell_type": "code",
   "execution_count": null,
   "id": "7f0f335e-6402-4dd0-bd78-6f593c895047",
   "metadata": {
    "tags": []
   },
   "outputs": [],
   "source": [
    "len(vectors['jesus'])"
   ]
  },
  {
   "cell_type": "code",
   "execution_count": null,
   "id": "12e03d2b-71b7-426e-baa7-149d2a506576",
   "metadata": {
    "tags": []
   },
   "outputs": [],
   "source": [
    "vectors.similarity('god', 'jesus')"
   ]
  },
  {
   "cell_type": "code",
   "execution_count": null,
   "id": "bigger-filing",
   "metadata": {},
   "outputs": [],
   "source": [
    "vectors.similar_by_vector(vectors['jesus'])"
   ]
  },
  {
   "cell_type": "code",
   "execution_count": null,
   "id": "professional-experience",
   "metadata": {},
   "outputs": [],
   "source": [
    "vectors.similar_by_vector(vectors['learning'])"
   ]
  },
  {
   "cell_type": "code",
   "execution_count": null,
   "id": "ebc7e6c8-f51f-4d7e-9e3d-17e004655255",
   "metadata": {},
   "outputs": [],
   "source": [
    "import math\n",
    "\n",
    "def vlen(vec):\n",
    "    return math.sqrt(sum(c*c for c in vec))\n",
    "\n",
    "vlen(vectors['played'] - vectors['play'])\n",
    "vlen(vectors['play'])"
   ]
  },
  {
   "cell_type": "code",
   "execution_count": null,
   "id": "b39ca18a-61cd-4612-a109-c305e3af45dc",
   "metadata": {},
   "outputs": [],
   "source": [
    "len(vectors['play'])"
   ]
  },
  {
   "cell_type": "code",
   "execution_count": null,
   "id": "developing-keyboard",
   "metadata": {},
   "outputs": [],
   "source": [
    "vectors.similar_by_vector(vectors['run'] + (vectors['played'] - vectors['play']))"
   ]
  },
  {
   "cell_type": "code",
   "execution_count": null,
   "id": "acceptable-yukon",
   "metadata": {},
   "outputs": [],
   "source": [
    "vectors.similar_by_vector(vectors['son'] + (vectors['girl'] - vectors['boy']))"
   ]
  },
  {
   "cell_type": "code",
   "execution_count": null,
   "id": "becoming-september",
   "metadata": {
    "tags": []
   },
   "outputs": [],
   "source": [
    "vectors.similar_by_vector(vectors['berlin'] + (vectors['france'] - vectors['germany']))"
   ]
  }
 ],
 "metadata": {
  "kernelspec": {
   "display_name": "Python 3 (ipykernel)",
   "language": "python",
   "name": "python3"
  },
  "language_info": {
   "codemirror_mode": {
    "name": "ipython",
    "version": 3
   },
   "file_extension": ".py",
   "mimetype": "text/x-python",
   "name": "python",
   "nbconvert_exporter": "python",
   "pygments_lexer": "ipython3",
   "version": "3.8.10"
  }
 },
 "nbformat": 4,
 "nbformat_minor": 5
}
