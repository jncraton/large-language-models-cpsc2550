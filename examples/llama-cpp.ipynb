{
 "cells": [
  {
   "cell_type": "code",
   "execution_count": null,
   "id": "a50b6343-6d6b-48a5-8433-31df4a115bf8",
   "metadata": {},
   "outputs": [],
   "source": [
    "from llama_cpp import Llama\n",
    "from huggingface_hub import hf_hub_download\n",
    "\n",
    "model_path = hf_hub_download(repo_id=\"TheBloke/phi-2-GGUF\", \n",
    "                             filename=\"phi-2.Q4_K_M.gguf\")\n",
    "\n",
    "llm = Llama(model_path=model_path)"
   ]
  },
  {
   "cell_type": "code",
   "execution_count": null,
   "id": "b768ba37-e1b9-4cd2-b2e6-31ea1fb63c12",
   "metadata": {},
   "outputs": [],
   "source": [
    "output = llm(\"User: Please name the planets in the solar system.\\n\"\n",
    "             \"Assistant:\")\n",
    "\n",
    "print(output[\"choices\"][0][\"text\"])"
   ]
  }
 ],
 "metadata": {
  "kernelspec": {
   "display_name": "Python 3 (ipykernel)",
   "language": "python",
   "name": "python3"
  },
  "language_info": {
   "codemirror_mode": {
    "name": "ipython",
    "version": 3
   },
   "file_extension": ".py",
   "mimetype": "text/x-python",
   "name": "python",
   "nbconvert_exporter": "python",
   "pygments_lexer": "ipython3",
   "version": "3.9.2"
  }
 },
 "nbformat": 4,
 "nbformat_minor": 5
}
