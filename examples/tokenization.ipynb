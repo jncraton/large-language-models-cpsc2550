{
 "cells": [
  {
   "cell_type": "code",
   "execution_count": null,
   "id": "81d8df1d-f720-4b85-b47a-d4cfd6bbed42",
   "metadata": {},
   "outputs": [],
   "source": [
    "import random\n",
    "import re\n",
    "\n",
    "text = open(\"../tinystories-100.txt\").read()"
   ]
  },
  {
   "cell_type": "code",
   "execution_count": null,
   "id": "a0d65121-20bf-4d3a-b152-faa461c5811f",
   "metadata": {},
   "outputs": [],
   "source": [
    "def split_words(text):\n",
    "    return re.findall(r'\\s+\\S+', text)\n",
    "\n",
    "words = split_words(text)"
   ]
  },
  {
   "cell_type": "code",
   "execution_count": null,
   "id": "a6b670db-697e-4db5-b7c5-0945bb70b6e1",
   "metadata": {},
   "outputs": [],
   "source": [
    "N = 2\n",
    "\n",
    "next_word = {}\n",
    "\n",
    "def iter_ctx(words, ctx_size):\n",
    "    \"\"\" Yields words and context\n",
    "\n",
    "    :param words: Words to iterate\n",
    "    :param ctx: Size of context for each word in number of words\"\"\"\n",
    "    \n",
    "    for i in range(ctx_size, len(words) - ctx_size):\n",
    "        yield words[i - ctx_size: i], words[i]\n",
    "\n",
    "for ctx, next in iter_ctx(words, N):\n",
    "    idx = tuple(ctx)\n",
    "    \n",
    "    if idx in next_word:\n",
    "        next_word[idx].append(next)\n",
    "    else:\n",
    "        next_word[idx] = [next]\n",
    "\n",
    "\n",
    "\n",
    "def generate(prompt, num_words=1):\n",
    "    generation = prompt\n",
    "\n",
    "    for _ in range(num_words):\n",
    "        idx = tuple(split_words(generation)[-N:])\n",
    "        last_word = random.choice(next_word[idx][:])\n",
    "        generation += last_word\n",
    "        \n",
    "    return generation"
   ]
  },
  {
   "cell_type": "code",
   "execution_count": null,
   "id": "d7e0792c-1e93-40c9-af0e-61775f5c0cbe",
   "metadata": {},
   "outputs": [],
   "source": [
    "print(generate(\"\\n\\n\\n\\nOnce upon a time there\", num_words = 200))"
   ]
  }
 ],
 "metadata": {
  "kernelspec": {
   "display_name": "Python 3 (ipykernel)",
   "language": "python",
   "name": "python3"
  },
  "language_info": {
   "codemirror_mode": {
    "name": "ipython",
    "version": 3
   },
   "file_extension": ".py",
   "mimetype": "text/x-python",
   "name": "python",
   "nbconvert_exporter": "python",
   "pygments_lexer": "ipython3",
   "version": "3.9.2"
  }
 },
 "nbformat": 4,
 "nbformat_minor": 5
}
