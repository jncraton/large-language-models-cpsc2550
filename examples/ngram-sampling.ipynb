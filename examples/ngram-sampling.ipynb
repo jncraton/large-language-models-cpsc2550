{
 "cells": [
  {
   "cell_type": "code",
   "execution_count": 32,
   "id": "ae4cdc8a-c982-4578-8a63-98ff7859771c",
   "metadata": {},
   "outputs": [],
   "source": [
    "text = open(\"tinystories-100.txt\").read()"
   ]
  },
  {
   "cell_type": "code",
   "execution_count": 33,
   "id": "ac0ef6c6-f1f0-429c-b8f4-6a75be7ac1b1",
   "metadata": {},
   "outputs": [],
   "source": [
    "def iter_ngrams(text, n):\n",
    "    words = text.split()\n",
    "\n",
    "    for i in range(n, len(words)-n):\n",
    "        yield tuple(words[i-n:i]), words[i]"
   ]
  },
  {
   "cell_type": "code",
   "execution_count": 37,
   "id": "660c78a4-ce84-4e6d-b347-ef122017fd53",
   "metadata": {},
   "outputs": [],
   "source": [
    "next_word = {}\n",
    "ngram_size = 3\n",
    "\n",
    "for current, next in iter_ngrams(text, ngram_size):\n",
    "    if current in next_word:\n",
    "        next_word[current].append(next)\n",
    "    else:\n",
    "        next_word[current] = [next]"
   ]
  },
  {
   "cell_type": "code",
   "execution_count": 43,
   "id": "3a226913-5f26-43f8-a25d-4791f9f2ab7a",
   "metadata": {},
   "outputs": [
    {
     "data": {
      "text/plain": [
       "'One day, a girl named Mia went for a walk. She saw a lawyer. Mia had never seen anything like this before, and he was scared! He stepped back and thought of a plan. He remembered that the sun could make things warm. So, Fin swam to the top of a mountain to get a new video game instead. Emily was happy to have an even better game to play. She saw a lawyer. Mia had never seen anything like this before, and he was scared! He stepped back and thought of a plan. He quietly reached inside his pocket and found some small stones. He threw the stones at the spiders and they ran away! He was so happy, he forgot all about being scared. Mum smiled when she saw a little boy named Tim. Tim loved to speak and play with his toys while he waited for his vest to dry. Once upon a time, a little girl so eager to talk to him. He tried to catch up, but Dependable was too quick. In the end, Lizzie drove her car all the way to the end of the country road and the rabbit hopped away. Andy was a bit anxious'"
      ]
     },
     "execution_count": 43,
     "metadata": {},
     "output_type": "execute_result"
    }
   ],
   "source": [
    "from random import choice\n",
    "\n",
    "def generate(prompt, num_words=1):\n",
    "    generation = prompt.strip()\n",
    "    \n",
    "    for i in range(0, num_words):\n",
    "        last_ngram = tuple(generation.split()[-ngram_size:])\n",
    "        generation += \" \" + choice(next_word[last_ngram])\n",
    "    \n",
    "    return generation\n",
    "\n",
    "generate(\"One day, a\", num_words=200)"
   ]
  }
 ],
 "metadata": {
  "kernelspec": {
   "display_name": "Python 3 (ipykernel)",
   "language": "python",
   "name": "python3"
  },
  "language_info": {
   "codemirror_mode": {
    "name": "ipython",
    "version": 3
   },
   "file_extension": ".py",
   "mimetype": "text/x-python",
   "name": "python",
   "nbconvert_exporter": "python",
   "pygments_lexer": "ipython3",
   "version": "3.9.2"
  }
 },
 "nbformat": 4,
 "nbformat_minor": 5
}
