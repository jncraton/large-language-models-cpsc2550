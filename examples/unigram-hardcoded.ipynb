{
 "cells": [
  {
   "cell_type": "code",
   "execution_count": 37,
   "id": "c73ad435-1f3c-4c40-a3fb-0580fff1ffdf",
   "metadata": {},
   "outputs": [
    {
     "data": {
      "text/plain": [
       "'walked'"
      ]
     },
     "execution_count": 37,
     "metadata": {},
     "output_type": "execute_result"
    }
   ],
   "source": [
    "\"The boy walked on the road\"\n",
    "\n",
    "def generate(prompt):\n",
    "    last_word = prompt.split()[-1]\n",
    "    \n",
    "    if last_word == \"The\":\n",
    "        return \"boy\"\n",
    "    if last_word == \"boy\":\n",
    "        return \"walked\"\n",
    "\n",
    "generate(\"There was a boy\")"
   ]
  }
 ],
 "metadata": {
  "kernelspec": {
   "display_name": "Python 3 (ipykernel)",
   "language": "python",
   "name": "python3"
  },
  "language_info": {
   "codemirror_mode": {
    "name": "ipython",
    "version": 3
   },
   "file_extension": ".py",
   "mimetype": "text/x-python",
   "name": "python",
   "nbconvert_exporter": "python",
   "pygments_lexer": "ipython3",
   "version": "3.9.2"
  }
 },
 "nbformat": 4,
 "nbformat_minor": 5
}
