{
 "cells": [
  {
   "cell_type": "code",
   "execution_count": null,
   "id": "b7b11b38-c28b-4ad5-8007-0b6d421c61ca",
   "metadata": {},
   "outputs": [],
   "source": [
    "from transformers import pipeline\n",
    "\n",
    "\n",
    "generator = pipeline('text-generation',\n",
    "                     model='openai-community/openai-gpt')"
   ]
  },
  {
   "cell_type": "code",
   "execution_count": null,
   "id": "f29d011c-04c3-4f2f-9ab6-66a9cab438cd",
   "metadata": {},
   "outputs": [],
   "source": [
    "output = generator(\"Question: What is the capital of France?\\n\"\n",
    "                   \"Answer:\", max_length=50)\n",
    "print(output[0]['generated_text'])"
   ]
  }
 ],
 "metadata": {
  "kernelspec": {
   "display_name": "Python 3 (ipykernel)",
   "language": "python",
   "name": "python3"
  },
  "language_info": {
   "codemirror_mode": {
    "name": "ipython",
    "version": 3
   },
   "file_extension": ".py",
   "mimetype": "text/x-python",
   "name": "python",
   "nbconvert_exporter": "python",
   "pygments_lexer": "ipython3",
   "version": "3.9.2"
  }
 },
 "nbformat": 4,
 "nbformat_minor": 5
}
