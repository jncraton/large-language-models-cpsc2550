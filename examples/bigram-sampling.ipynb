{
 "cells": [
  {
   "cell_type": "code",
   "execution_count": 3,
   "id": "ae4cdc8a-c982-4578-8a63-98ff7859771c",
   "metadata": {},
   "outputs": [],
   "source": [
    "text = open(\"tinystories-100.txt\").read()"
   ]
  },
  {
   "cell_type": "code",
   "execution_count": 6,
   "id": "f843bba3-ab46-42ed-a977-02d511ea9101",
   "metadata": {},
   "outputs": [],
   "source": [
    "next_word = {}\n",
    "\n",
    "words = text.split()\n",
    "\n",
    "for current, next in zip(words, words[1:]):\n",
    "    if current in next_word:\n",
    "        next_word[current].append(next)\n",
    "    else:\n",
    "        next_word[current] = [next]"
   ]
  },
  {
   "cell_type": "code",
   "execution_count": 16,
   "id": "3a226913-5f26-43f8-a25d-4791f9f2ab7a",
   "metadata": {},
   "outputs": [
    {
     "data": {
      "text/plain": [
       "'One day on, Ella stepped closer look. She took the harsh sun. So, he went back to the tree. \"Don\\'t cry, Binky,\" he couldnaEUR(tm)t keep it. But then her car to her little girl was big box. He learned that said it was happy friends nodded and fish.\" The bear was a big backyard of her room. She grabbed her dad laughed a valuable lesson: when he saw that the toys and saw the lake, there was a time for a big box. The cat and had never seen before. It was feeling you help her toys. She loved to wear it was attracting some of it. It made it was a little bunny on the lady was very hard for a little boy who could build something surprising: a time, there was a small boy named the table and the button they stopped at the barber. He felt sad because they went to sleep and then her triangle might like being different flavours and everyone loves.\" The rabbit hopped off the cherry tree with his dad said shyly, \"I\\'m explaining to explore this time to use with lots of Ella\\'s wishes in surprise their friends for making a white cat who lived a brown kayak kept playing with and clapped. Then, they saw a snowstorm and too big. Tom were glad that good friends by one more careful speed. In the string. The new friend. And so, Fin and the man. But she agreed that night on, Ella grabbed a little girl named Annie. She was so they had separated them! Go ahead of metal?\" Sarah smiled and tidy. Tilly was a silver necklace, and take it.\" Mary thought you to take care of the park when she knew that day on, Lily and forth against the two animals were so excited! He learned that day. When walking in the country road and they would smile on the kitty\\'s home. When she decided to his shoulder! Jimmy exclaimed, aEURoeWow, that it played outside in the floor. They had experienced the finish line. In the park and beeped his tail is Wilbur and Emily was a healthy car had a little girl named Fluffy. Fluffy looked up all looked around for her. She was shining so inviting, so proud and replied, aEURoeThataEUR(tm)s very excited, she could help. Tim did not nervous anymore. Mia who loved to be more careful with the deep blue and said, \"It sure you three years old woman. \"Do you here.\" Suddenly, something very sad. He picked up with the fish were all the time. But then on, Ella looked under the vegetables by the box and started cleaning up and let it up or the button on the night, Tim used his tail is showing them coming. At the woman said it was happy watching the birds with his pocket. Tom felt bad though. Are you going? Don\\'t be quiet rewarding. From that the modest speed. Every morning when she pulled as you would lay on the sky. His mom brought home happy. Once upon a voice. It was also helped him. Tim told their friends with the tree started walking around the spider was a strawberry. What can receive the gum was. Then, the big backyard when she was so much fun. They both wanted to fly away into a moment then she had happened: the case they do.\" The clumsy one disagreed. The boat sail faster and asked, \"Can you can find out of the present all the water. Then, they shared it more. But the woman said it had an old and promised to the race. So, he asked her toys. But when Jill woke up, but happy. Once upon a cat felt happy to use a small legs and everyone happy. Then, all said goodbye and said, \"Mommy, there\\'s snow in the rabbit nodded and closer to the water. They showed the leaves in a big bubblegum again. They were best of wonderful idea. They played outside helping others and started to help, but first you need to the hoop in the water!\" They lined up and called a big red ball, ran down and no matter how to go home. Jimmy shouted, \"Mommy, there\\'s snow in the pumpkin was attracting some glue and most beautiful rainbow. She could tell the rabbit learned that she would smile and I had to play with it, as new. She was not clear if it was a long, waggy tail out.\" Oliver flew around, she had lots of them win the best friends, Joe was so ashamed. She was suspended from behind the birds with his toy robot! She wanted to playing until the hole, he couldn\\'t wait to be excited. They learned that the best friends were happy friends saw the girl named Timmy. From that he saw a better game where it home with that, they had a big hammer in his dark here. I shouted.aEUR Annie was a pretty shell. Sue saw a naughty thing to play together!\" The cat and she was so happy to teach each other.\" The squirrel welcomed her house and Emily was very sad. It looked and rot.\" His daddy used the little girl spent the boat and said, giving him to make your tail got more strange: the tree and thought she felt good. Tim was very loud, and waited and said, \"Thank you, ghost!\" The bunny realized what had a feeling you will always greeted by one day on, Ella stepped out the garage she noticed something was so gorgeous, like a boat played a peaceful town, going to share the puddle. Lily saw something so careless, he had been preparing for each other, walked around, she felt happy too. And so, Fin and she said aEURoehelloaEUR. The kitty was and couldnaEUR(tm)t keep up, she was excited to take a lot. He went to go too old.\" Tim called Billy. He was very interesting! I was so many birds?\" Joe was a boy was a queen. She was a new pencil. He saw an idea! He had been so excited, because they went back to wear a radio. Little Bear said, \"Look what I will show his toy robot! She said, aEURoeYes, I want to play a new home without the sky was then her lunch in the lake. One day, Tim ate it was always looked at the painter. She would jump out on the frame for this way. And that it was at the game. Tom played all the arrow in the right up all wealthy and flew out one more water to go too big. Tom to mess with her mom and her eyes. He explained to be explaining to play with the birds outside in a time, there together.\" So Jane and his closet and relaxing together in the best friend, \"I think back to show Elly and proud of them together, isn\\'t real,\" she could build a lot of the water on jumping and not want to meet the store. She was an idea! He wanted to hide and said, \"Thank you, Oliver!\" All the end, the world. Then, the brown kayak rolled in the pencil a ride in her family. Nora wanted to play with the race. And they stopped just available, it was a helpful girl could share and dad the ground. She grabbed a kitty was a little boy named Susie. Susie said to help me too.\" The queen could make the park, knowing that it thought maybe he seemed to join the cat\\'s ear. The family soon she could not. The breeze was JimmyaEUR(tm)s surprise, his favorite vest was so fast driver named Lily. She took the yard. They were very sweet! If nobody takes it, and forth against the amazing it tasted very bad. Once upon a small and took off excitedly, ready to have a reliable fish. He was so much nicer to get something to go too far. Now it was a sad anymore. He drew beautiful pumpkin. The spider was very happy again. One day, she could not standing up and dad. One day, a time to run. Every day, when he said. \"This card is not to climb to go home, Daddy asked his new friend. The bear was a little boy. Here you must never to help. Tim wanted to get a sad to be like it. Jane what we get the tree learned to try it, but he ran down on him. She chewed the box. Jill had lots of her own wealth too! Once upon a healthy fuel. Good fuel made her daddyaEUR(tm)s tie was empty. A little cherry tree was very quickly. His mommy told Benny asked him to jump into the water!\" The game together. Lily was so proud of fun. But the sandbox. One day, a silly game can do something special! One day, a real card and green. Then, she was so it smaller. Tom to take it was very special. He felt happy they emerged into the metal?\" Sarah ran and I had to grow, and help others too. They played and always looked at a small pumpkin was so much more and looked at him. He couldn\\'t wait to his friend, and took the country road and admired her dad said to play together. And Max loved to read the two friends in the boat was playing in the bush, so much fun together, and clap her time to touch it!aEUR Annie jumped right up or weaEUR(tm)ll never seen before. She rubbed her and having lots of trees, there lived happily ever made. But she drank some convincing from the pencil. He was so much fun all for the birds with her mom saw a present for a tall door and when I can grant you like I can receive the car all worked together. They all strangers. Once upon a visit. She was also had a boy named Fluffy. Fluffy was his ducks seemed to be brave and she felt ugly and started cutting the ground, pushing the same day. One day, when the ghost smiled as hard as the park. One was an idea. Let\\'s play with her house and gave it was stuck, so she got dizzy, then on. Rachel got there, they found a cat. Tim was time for ways to teach Fluffy tried to take a coat frame. It was a little girl was a big, red stove granted all empty! She lived happily in the cherry tree and he went, exploring the brush. The young lady. Now it was overjoyed and Lily asked the story. They helped everyone in his toy gun. He wagged his mom saw a big red and Jill looked everywhere. Amy was a little rabbit learned that the mud. The other flowers. Bloom was shining, and said: \"Let\\'s start the sunset. One day, his mom chuckled and said, \"You\\'re welcome. Now, he remembered his eyes. He showed her that day on, she saw that when she would go home. When they raced into the lady was so the lake below him. Tim had just like this pumpkin, please?\" His friends without her mom chuckled and did not bloom. It was always had zipped across a little boy felt happy too fast that he decided to eat!\" Charlie was a big bedroom with their backyard and watched the powder around it. He had lots of water is filled with her toy. He walked along the park. One day, a kitty was full of magic. Lucy smiled as he ran to take it up and the lightest and happy. Once upon a birdcage. Inside the special because they finished, Lily put away from the birds sing and told his eyes. On the book. Once upon a ride on jumping and gave him weep and said, \"Thank you, ghost!\" The cherry tree grew bigger. She liked to bed. In the park, there were all for her mom about how sad Joe was a bucket. They played'"
      ]
     },
     "execution_count": 16,
     "metadata": {},
     "output_type": "execute_result"
    }
   ],
   "source": [
    "from random import choice\n",
    "\n",
    "def generate(prompt, num_words=1):\n",
    "    generation = prompt.strip()\n",
    "    \n",
    "    for i in range(0, num_words):\n",
    "        last_word = generation.split()[-1]\n",
    "        try:\n",
    "            generation += \" \" + choice(next_word[last_word])\n",
    "        except KeyError:\n",
    "            generation += \" the\"\n",
    "    \n",
    "    return generation\n",
    "\n",
    "generate(\"One day\", num_words=2000)"
   ]
  }
 ],
 "metadata": {
  "kernelspec": {
   "display_name": "Python 3 (ipykernel)",
   "language": "python",
   "name": "python3"
  },
  "language_info": {
   "codemirror_mode": {
    "name": "ipython",
    "version": 3
   },
   "file_extension": ".py",
   "mimetype": "text/x-python",
   "name": "python",
   "nbconvert_exporter": "python",
   "pygments_lexer": "ipython3",
   "version": "3.9.2"
  }
 },
 "nbformat": 4,
 "nbformat_minor": 5
}
