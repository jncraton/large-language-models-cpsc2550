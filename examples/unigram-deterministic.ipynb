{
 "cells": [
  {
   "cell_type": "code",
   "execution_count": 1,
   "id": "ae4cdc8a-c982-4578-8a63-98ff7859771c",
   "metadata": {},
   "outputs": [],
   "source": [
    "text = open(\"tinystories-100.txt\").read()"
   ]
  },
  {
   "cell_type": "code",
   "execution_count": 2,
   "id": "f843bba3-ab46-42ed-a977-02d511ea9101",
   "metadata": {},
   "outputs": [
    {
     "data": {
      "text/plain": [
       "'kitty'"
      ]
     },
     "execution_count": 2,
     "metadata": {},
     "output_type": "execute_result"
    }
   ],
   "source": [
    "next_word = {}\n",
    "\n",
    "words = text.split()\n",
    "\n",
    "for current, next in zip(words, words[1:]):\n",
    "    next_word[current] = next\n",
    "\n",
    "def generate(prompt):\n",
    "    last_word = prompt.split()[-1]\n",
    "\n",
    "    return next_word[last_word]\n",
    "\n",
    "generate(\"The\")"
   ]
  }
 ],
 "metadata": {
  "kernelspec": {
   "display_name": "Python 3 (ipykernel)",
   "language": "python",
   "name": "python3"
  },
  "language_info": {
   "codemirror_mode": {
    "name": "ipython",
    "version": 3
   },
   "file_extension": ".py",
   "mimetype": "text/x-python",
   "name": "python",
   "nbconvert_exporter": "python",
   "pygments_lexer": "ipython3",
   "version": "3.9.2"
  }
 },
 "nbformat": 4,
 "nbformat_minor": 5
}
