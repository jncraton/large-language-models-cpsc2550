{
 "cells": [
  {
   "cell_type": "code",
   "execution_count": 1,
   "id": "ae4cdc8a-c982-4578-8a63-98ff7859771c",
   "metadata": {},
   "outputs": [],
   "source": [
    "text = open(\"tinystories-100.txt\").read()"
   ]
  },
  {
   "cell_type": "code",
   "execution_count": 22,
   "id": "f843bba3-ab46-42ed-a977-02d511ea9101",
   "metadata": {},
   "outputs": [
    {
     "data": {
      "text/plain": [
       "'Marcus the metal, that they grabbed it and set off, ready to call on their neighbours. the metal, that they grabbed it and set off, ready to call on their neighbours. the metal, that they grabbed it and set off, ready to call on their neighbours. the metal, that they grabbed it and set off, ready to call on their neighbours. the metal, that they grabbed it and set off, ready to call on their neighbours. the metal, that they grabbed it and set off, ready to call on their neighbours. the metal, that they grabbed it and set off, ready'"
      ]
     },
     "execution_count": 22,
     "metadata": {},
     "output_type": "execute_result"
    }
   ],
   "source": [
    "next_word = {}\n",
    "\n",
    "words = text.split()\n",
    "\n",
    "for current, next in zip(words, words[1:]):\n",
    "    next_word[current] = next\n",
    "\n",
    "def generate(prompt, num_words=1):\n",
    "    generation = prompt.strip()\n",
    "    \n",
    "    for i in range(0, num_words):\n",
    "        last_word = generation.split()[-1]\n",
    "        try:\n",
    "            generation += \" \" + next_word[last_word]\n",
    "        except KeyError:\n",
    "            generation += \" the\"\n",
    "    \n",
    "    return generation\n",
    "\n",
    "generate(\"Marcus\", num_words=100)"
   ]
  },
  {
   "cell_type": "code",
   "execution_count": 25,
   "id": "5c60a4da-ec31-463f-a8d0-be52d34bc08b",
   "metadata": {},
   "outputs": [
    {
     "data": {
      "text/plain": [
       "'call'"
      ]
     },
     "execution_count": 25,
     "metadata": {},
     "output_type": "execute_result"
    }
   ],
   "source": [
    "next_word[\"to\"]"
   ]
  },
  {
   "cell_type": "code",
   "execution_count": null,
   "id": "1628e6b8-0868-46f4-82e9-1f513759d1fc",
   "metadata": {},
   "outputs": [],
   "source": []
  }
 ],
 "metadata": {
  "kernelspec": {
   "display_name": "Python 3 (ipykernel)",
   "language": "python",
   "name": "python3"
  },
  "language_info": {
   "codemirror_mode": {
    "name": "ipython",
    "version": 3
   },
   "file_extension": ".py",
   "mimetype": "text/x-python",
   "name": "python",
   "nbconvert_exporter": "python",
   "pygments_lexer": "ipython3",
   "version": "3.9.2"
  }
 },
 "nbformat": 4,
 "nbformat_minor": 5
}
