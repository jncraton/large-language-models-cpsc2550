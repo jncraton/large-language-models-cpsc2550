{
 "cells": [
  {
   "cell_type": "code",
   "execution_count": null,
   "id": "78274f67-6703-486b-a13c-9f77aad7d24f",
   "metadata": {},
   "outputs": [],
   "source": [
    "import ctranslate2\n",
    "import tokenizers\n",
    "from huggingface_hub import snapshot_download, hf_hub_download\n",
    "\n",
    "tok_config = hf_hub_download(\"jncraton/LaMini-Flan-T5-783M-ct2-int8\", \"tokenizer.json\")\n",
    "tokenizer = tokenizers.Tokenizer.from_file(tok_config)\n",
    "\n",
    "path = snapshot_download(\"jncraton/LaMini-Flan-T5-783M-ct2-int8\")\n",
    "translator = ctranslate2.Translator(path)\n",
    "\n",
    "def generate(prompt):\n",
    "    prompts = [prompt]\n",
    "    \n",
    "    outputs_ids = []\n",
    "    \n",
    "    results = translator.translate_batch(\n",
    "        [tokenizer.encode(p).tokens for p in prompts],\n",
    "        repetition_penalty=1.3,\n",
    "        max_decoding_length=512,\n",
    "        sampling_topk=1,\n",
    "        beam_size=1,\n",
    "    )\n",
    "    \n",
    "    outputs_tokens = [r.hypotheses[0] for r in results]\n",
    "    \n",
    "    for output in outputs_tokens:\n",
    "        outputs_ids.append([tokenizer.token_to_id(t) for t in output])\n",
    "    \n",
    "    return [tokenizer.decode(i, skip_special_tokens=True).lstrip() for i in outputs_ids][0]\n",
    "\n",
    "generate(\"Say hello!\")"
   ]
  },
  {
   "cell_type": "code",
   "execution_count": null,
   "id": "378ff520-78cf-4679-99a3-ea56bdd02516",
   "metadata": {},
   "outputs": [],
   "source": [
    "generate(\"Name the planets in the solar system.\")"
   ]
  }
 ],
 "metadata": {
  "kernelspec": {
   "display_name": "Python 3 (ipykernel)",
   "language": "python",
   "name": "python3"
  },
  "language_info": {
   "codemirror_mode": {
    "name": "ipython",
    "version": 3
   },
   "file_extension": ".py",
   "mimetype": "text/x-python",
   "name": "python",
   "nbconvert_exporter": "python",
   "pygments_lexer": "ipython3",
   "version": "3.9.2"
  }
 },
 "nbformat": 4,
 "nbformat_minor": 5
}
